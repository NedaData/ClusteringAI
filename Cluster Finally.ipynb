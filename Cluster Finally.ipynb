{
 "cells": [
  {
   "cell_type": "code",
   "execution_count": 28,
   "id": "f9774c05",
   "metadata": {},
   "outputs": [],
   "source": [
    "import pandas as pd\n",
    "from nltk.tokenize import TweetTokenizer\n",
    "from nltk.corpus import stopwords\n",
    "import re, string\n",
    "import nltk\n",
    "from textblob import Word\n",
    "from sklearn.feature_extraction.text import CountVectorizer\n",
    "from sklearn.feature_extraction.text import TfidfVectorizer\n",
    "from sklearn.metrics import silhouette_score\n",
    "from sklearn.cluster import KMeans\n",
    "import matplotlib.pyplot as plt\n",
    "import umap.plot\n",
    "import umap\n",
    "from sklearn.decomposition import PCA\n",
    "import seaborn as sns\n",
    "data = pd.read_csv(r\"C:\\Users\\ml_da\\OneDrive\\Documents\\sql_proba_dumps.csv\")"
   ]
  },
  {
   "cell_type": "code",
   "execution_count": 29,
   "id": "5f68caf7",
   "metadata": {},
   "outputs": [
    {
     "data": {
      "text/plain": [
       "0               paleo diet\n",
       "1       nutrition trending\n",
       "2         best supplements\n",
       "3          nutrition chaga\n",
       "4     documentaries access\n",
       "              ...         \n",
       "95       prenatal vitamins\n",
       "96          parenting faqs\n",
       "97           good prenatal\n",
       "98        habits parenting\n",
       "99        asthma parenting\n",
       "Name: keyword_name, Length: 100, dtype: object"
      ]
     },
     "execution_count": 29,
     "metadata": {},
     "output_type": "execute_result"
    }
   ],
   "source": [
    "data.keyword_name"
   ]
  },
  {
   "cell_type": "markdown",
   "id": "08be7704",
   "metadata": {},
   "source": [
    "# Cleaning data"
   ]
  },
  {
   "cell_type": "code",
   "execution_count": 30,
   "id": "13a19345",
   "metadata": {},
   "outputs": [
    {
     "name": "stderr",
     "output_type": "stream",
     "text": [
      "C:\\Users\\ml_da\\AppData\\Local\\Temp\\ipykernel_24276\\796947610.py:2: FutureWarning: The default value of regex will change from True to False in a future version.\n",
      "  data['keyword_name'] = data['keyword_name'].str.replace('[^\\w\\s]','')\n",
      "[nltk_data] Downloading package omw-1.4 to\n",
      "[nltk_data]     C:\\Users\\ml_da\\AppData\\Roaming\\nltk_data...\n",
      "[nltk_data]   Package omw-1.4 is already up-to-date!\n"
     ]
    },
    {
     "data": {
      "text/plain": [
       "True"
      ]
     },
     "execution_count": 30,
     "metadata": {},
     "output_type": "execute_result"
    }
   ],
   "source": [
    "data['keyword_name'] = data['keyword_name'].apply(lambda x:\"\".join(i for i in x if x is not i.isdigit()))\n",
    "data['keyword_name'] = data['keyword_name'].str.replace('[^\\w\\s]','')\n",
    "stop = stopwords.words('english')\n",
    "data['keyword_name'] = data['keyword_name'].apply(lambda x:\" \".join(x for x in x.split() if x is not stop))\n",
    "nltk.download('omw-1.4')"
   ]
  },
  {
   "cell_type": "markdown",
   "id": "1109255b",
   "metadata": {},
   "source": [
    "# Count Vectorizer"
   ]
  },
  {
   "cell_type": "code",
   "execution_count": 31,
   "id": "c8a977b4",
   "metadata": {},
   "outputs": [
    {
     "data": {
      "text/html": [
       "<style>#sk-container-id-7 {color: black;background-color: white;}#sk-container-id-7 pre{padding: 0;}#sk-container-id-7 div.sk-toggleable {background-color: white;}#sk-container-id-7 label.sk-toggleable__label {cursor: pointer;display: block;width: 100%;margin-bottom: 0;padding: 0.3em;box-sizing: border-box;text-align: center;}#sk-container-id-7 label.sk-toggleable__label-arrow:before {content: \"▸\";float: left;margin-right: 0.25em;color: #696969;}#sk-container-id-7 label.sk-toggleable__label-arrow:hover:before {color: black;}#sk-container-id-7 div.sk-estimator:hover label.sk-toggleable__label-arrow:before {color: black;}#sk-container-id-7 div.sk-toggleable__content {max-height: 0;max-width: 0;overflow: hidden;text-align: left;background-color: #f0f8ff;}#sk-container-id-7 div.sk-toggleable__content pre {margin: 0.2em;color: black;border-radius: 0.25em;background-color: #f0f8ff;}#sk-container-id-7 input.sk-toggleable__control:checked~div.sk-toggleable__content {max-height: 200px;max-width: 100%;overflow: auto;}#sk-container-id-7 input.sk-toggleable__control:checked~label.sk-toggleable__label-arrow:before {content: \"▾\";}#sk-container-id-7 div.sk-estimator input.sk-toggleable__control:checked~label.sk-toggleable__label {background-color: #d4ebff;}#sk-container-id-7 div.sk-label input.sk-toggleable__control:checked~label.sk-toggleable__label {background-color: #d4ebff;}#sk-container-id-7 input.sk-hidden--visually {border: 0;clip: rect(1px 1px 1px 1px);clip: rect(1px, 1px, 1px, 1px);height: 1px;margin: -1px;overflow: hidden;padding: 0;position: absolute;width: 1px;}#sk-container-id-7 div.sk-estimator {font-family: monospace;background-color: #f0f8ff;border: 1px dotted black;border-radius: 0.25em;box-sizing: border-box;margin-bottom: 0.5em;}#sk-container-id-7 div.sk-estimator:hover {background-color: #d4ebff;}#sk-container-id-7 div.sk-parallel-item::after {content: \"\";width: 100%;border-bottom: 1px solid gray;flex-grow: 1;}#sk-container-id-7 div.sk-label:hover label.sk-toggleable__label {background-color: #d4ebff;}#sk-container-id-7 div.sk-serial::before {content: \"\";position: absolute;border-left: 1px solid gray;box-sizing: border-box;top: 0;bottom: 0;left: 50%;z-index: 0;}#sk-container-id-7 div.sk-serial {display: flex;flex-direction: column;align-items: center;background-color: white;padding-right: 0.2em;padding-left: 0.2em;position: relative;}#sk-container-id-7 div.sk-item {position: relative;z-index: 1;}#sk-container-id-7 div.sk-parallel {display: flex;align-items: stretch;justify-content: center;background-color: white;position: relative;}#sk-container-id-7 div.sk-item::before, #sk-container-id-7 div.sk-parallel-item::before {content: \"\";position: absolute;border-left: 1px solid gray;box-sizing: border-box;top: 0;bottom: 0;left: 50%;z-index: -1;}#sk-container-id-7 div.sk-parallel-item {display: flex;flex-direction: column;z-index: 1;position: relative;background-color: white;}#sk-container-id-7 div.sk-parallel-item:first-child::after {align-self: flex-end;width: 50%;}#sk-container-id-7 div.sk-parallel-item:last-child::after {align-self: flex-start;width: 50%;}#sk-container-id-7 div.sk-parallel-item:only-child::after {width: 0;}#sk-container-id-7 div.sk-dashed-wrapped {border: 1px dashed gray;margin: 0 0.4em 0.5em 0.4em;box-sizing: border-box;padding-bottom: 0.4em;background-color: white;}#sk-container-id-7 div.sk-label label {font-family: monospace;font-weight: bold;display: inline-block;line-height: 1.2em;}#sk-container-id-7 div.sk-label-container {text-align: center;}#sk-container-id-7 div.sk-container {/* jupyter's `normalize.less` sets `[hidden] { display: none; }` but bootstrap.min.css set `[hidden] { display: none !important; }` so we also need the `!important` here to be able to override the default hidden behavior on the sphinx rendered scikit-learn.org. See: https://github.com/scikit-learn/scikit-learn/issues/21755 */display: inline-block !important;position: relative;}#sk-container-id-7 div.sk-text-repr-fallback {display: none;}</style><div id=\"sk-container-id-7\" class=\"sk-top-container\"><div class=\"sk-text-repr-fallback\"><pre>CountVectorizer(token_pattern=&#x27;\\\\w{1,}&#x27;)</pre><b>In a Jupyter environment, please rerun this cell to show the HTML representation or trust the notebook. <br />On GitHub, the HTML representation is unable to render, please try loading this page with nbviewer.org.</b></div><div class=\"sk-container\" hidden><div class=\"sk-item\"><div class=\"sk-estimator sk-toggleable\"><input class=\"sk-toggleable__control sk-hidden--visually\" id=\"sk-estimator-id-7\" type=\"checkbox\" checked><label for=\"sk-estimator-id-7\" class=\"sk-toggleable__label sk-toggleable__label-arrow\">CountVectorizer</label><div class=\"sk-toggleable__content\"><pre>CountVectorizer(token_pattern=&#x27;\\\\w{1,}&#x27;)</pre></div></div></div></div></div>"
      ],
      "text/plain": [
       "CountVectorizer(token_pattern='\\\\w{1,}')"
      ]
     },
     "execution_count": 31,
     "metadata": {},
     "output_type": "execute_result"
    }
   ],
   "source": [
    "count_vect = CountVectorizer(analyzer='word', token_pattern=r'\\w{1,}')\n",
    "count_vect.fit(data['keyword_name'])"
   ]
  },
  {
   "cell_type": "code",
   "execution_count": 32,
   "id": "e4d9aa23",
   "metadata": {},
   "outputs": [
    {
     "data": {
      "text/plain": [
       "<100x127 sparse matrix of type '<class 'numpy.int64'>'\n",
       "\twith 194 stored elements in Compressed Sparse Row format>"
      ]
     },
     "execution_count": 32,
     "metadata": {},
     "output_type": "execute_result"
    }
   ],
   "source": [
    "Count_Vector = count_vect.transform(data['keyword_name'])\n",
    "Count_Vector"
   ]
  },
  {
   "cell_type": "markdown",
   "id": "f277c080",
   "metadata": {},
   "source": [
    "# Tfidf Vectorizer"
   ]
  },
  {
   "cell_type": "code",
   "execution_count": 33,
   "id": "80723b76",
   "metadata": {},
   "outputs": [
    {
     "data": {
      "text/html": [
       "<style>#sk-container-id-8 {color: black;background-color: white;}#sk-container-id-8 pre{padding: 0;}#sk-container-id-8 div.sk-toggleable {background-color: white;}#sk-container-id-8 label.sk-toggleable__label {cursor: pointer;display: block;width: 100%;margin-bottom: 0;padding: 0.3em;box-sizing: border-box;text-align: center;}#sk-container-id-8 label.sk-toggleable__label-arrow:before {content: \"▸\";float: left;margin-right: 0.25em;color: #696969;}#sk-container-id-8 label.sk-toggleable__label-arrow:hover:before {color: black;}#sk-container-id-8 div.sk-estimator:hover label.sk-toggleable__label-arrow:before {color: black;}#sk-container-id-8 div.sk-toggleable__content {max-height: 0;max-width: 0;overflow: hidden;text-align: left;background-color: #f0f8ff;}#sk-container-id-8 div.sk-toggleable__content pre {margin: 0.2em;color: black;border-radius: 0.25em;background-color: #f0f8ff;}#sk-container-id-8 input.sk-toggleable__control:checked~div.sk-toggleable__content {max-height: 200px;max-width: 100%;overflow: auto;}#sk-container-id-8 input.sk-toggleable__control:checked~label.sk-toggleable__label-arrow:before {content: \"▾\";}#sk-container-id-8 div.sk-estimator input.sk-toggleable__control:checked~label.sk-toggleable__label {background-color: #d4ebff;}#sk-container-id-8 div.sk-label input.sk-toggleable__control:checked~label.sk-toggleable__label {background-color: #d4ebff;}#sk-container-id-8 input.sk-hidden--visually {border: 0;clip: rect(1px 1px 1px 1px);clip: rect(1px, 1px, 1px, 1px);height: 1px;margin: -1px;overflow: hidden;padding: 0;position: absolute;width: 1px;}#sk-container-id-8 div.sk-estimator {font-family: monospace;background-color: #f0f8ff;border: 1px dotted black;border-radius: 0.25em;box-sizing: border-box;margin-bottom: 0.5em;}#sk-container-id-8 div.sk-estimator:hover {background-color: #d4ebff;}#sk-container-id-8 div.sk-parallel-item::after {content: \"\";width: 100%;border-bottom: 1px solid gray;flex-grow: 1;}#sk-container-id-8 div.sk-label:hover label.sk-toggleable__label {background-color: #d4ebff;}#sk-container-id-8 div.sk-serial::before {content: \"\";position: absolute;border-left: 1px solid gray;box-sizing: border-box;top: 0;bottom: 0;left: 50%;z-index: 0;}#sk-container-id-8 div.sk-serial {display: flex;flex-direction: column;align-items: center;background-color: white;padding-right: 0.2em;padding-left: 0.2em;position: relative;}#sk-container-id-8 div.sk-item {position: relative;z-index: 1;}#sk-container-id-8 div.sk-parallel {display: flex;align-items: stretch;justify-content: center;background-color: white;position: relative;}#sk-container-id-8 div.sk-item::before, #sk-container-id-8 div.sk-parallel-item::before {content: \"\";position: absolute;border-left: 1px solid gray;box-sizing: border-box;top: 0;bottom: 0;left: 50%;z-index: -1;}#sk-container-id-8 div.sk-parallel-item {display: flex;flex-direction: column;z-index: 1;position: relative;background-color: white;}#sk-container-id-8 div.sk-parallel-item:first-child::after {align-self: flex-end;width: 50%;}#sk-container-id-8 div.sk-parallel-item:last-child::after {align-self: flex-start;width: 50%;}#sk-container-id-8 div.sk-parallel-item:only-child::after {width: 0;}#sk-container-id-8 div.sk-dashed-wrapped {border: 1px dashed gray;margin: 0 0.4em 0.5em 0.4em;box-sizing: border-box;padding-bottom: 0.4em;background-color: white;}#sk-container-id-8 div.sk-label label {font-family: monospace;font-weight: bold;display: inline-block;line-height: 1.2em;}#sk-container-id-8 div.sk-label-container {text-align: center;}#sk-container-id-8 div.sk-container {/* jupyter's `normalize.less` sets `[hidden] { display: none; }` but bootstrap.min.css set `[hidden] { display: none !important; }` so we also need the `!important` here to be able to override the default hidden behavior on the sphinx rendered scikit-learn.org. See: https://github.com/scikit-learn/scikit-learn/issues/21755 */display: inline-block !important;position: relative;}#sk-container-id-8 div.sk-text-repr-fallback {display: none;}</style><div id=\"sk-container-id-8\" class=\"sk-top-container\"><div class=\"sk-text-repr-fallback\"><pre>TfidfVectorizer(max_features=5000, token_pattern=&#x27;\\\\w{1,}&#x27;)</pre><b>In a Jupyter environment, please rerun this cell to show the HTML representation or trust the notebook. <br />On GitHub, the HTML representation is unable to render, please try loading this page with nbviewer.org.</b></div><div class=\"sk-container\" hidden><div class=\"sk-item\"><div class=\"sk-estimator sk-toggleable\"><input class=\"sk-toggleable__control sk-hidden--visually\" id=\"sk-estimator-id-8\" type=\"checkbox\" checked><label for=\"sk-estimator-id-8\" class=\"sk-toggleable__label sk-toggleable__label-arrow\">TfidfVectorizer</label><div class=\"sk-toggleable__content\"><pre>TfidfVectorizer(max_features=5000, token_pattern=&#x27;\\\\w{1,}&#x27;)</pre></div></div></div></div></div>"
      ],
      "text/plain": [
       "TfidfVectorizer(max_features=5000, token_pattern='\\\\w{1,}')"
      ]
     },
     "execution_count": 33,
     "metadata": {},
     "output_type": "execute_result"
    }
   ],
   "source": [
    "tfidf_vect = TfidfVectorizer(analyzer='word', token_pattern= r'\\w{1,}', max_features=5000)\n",
    "tfidf_vect.fit(data['keyword_name'])"
   ]
  },
  {
   "cell_type": "code",
   "execution_count": 34,
   "id": "072bef73",
   "metadata": {},
   "outputs": [],
   "source": [
    "tfidf_word = tfidf_vect.transform(data['keyword_name'])"
   ]
  },
  {
   "cell_type": "markdown",
   "id": "a63dd96a",
   "metadata": {},
   "source": [
    "**Ngram Range**"
   ]
  },
  {
   "cell_type": "code",
   "execution_count": 35,
   "id": "3e2cfc4f",
   "metadata": {},
   "outputs": [
    {
     "data": {
      "text/html": [
       "<style>#sk-container-id-9 {color: black;background-color: white;}#sk-container-id-9 pre{padding: 0;}#sk-container-id-9 div.sk-toggleable {background-color: white;}#sk-container-id-9 label.sk-toggleable__label {cursor: pointer;display: block;width: 100%;margin-bottom: 0;padding: 0.3em;box-sizing: border-box;text-align: center;}#sk-container-id-9 label.sk-toggleable__label-arrow:before {content: \"▸\";float: left;margin-right: 0.25em;color: #696969;}#sk-container-id-9 label.sk-toggleable__label-arrow:hover:before {color: black;}#sk-container-id-9 div.sk-estimator:hover label.sk-toggleable__label-arrow:before {color: black;}#sk-container-id-9 div.sk-toggleable__content {max-height: 0;max-width: 0;overflow: hidden;text-align: left;background-color: #f0f8ff;}#sk-container-id-9 div.sk-toggleable__content pre {margin: 0.2em;color: black;border-radius: 0.25em;background-color: #f0f8ff;}#sk-container-id-9 input.sk-toggleable__control:checked~div.sk-toggleable__content {max-height: 200px;max-width: 100%;overflow: auto;}#sk-container-id-9 input.sk-toggleable__control:checked~label.sk-toggleable__label-arrow:before {content: \"▾\";}#sk-container-id-9 div.sk-estimator input.sk-toggleable__control:checked~label.sk-toggleable__label {background-color: #d4ebff;}#sk-container-id-9 div.sk-label input.sk-toggleable__control:checked~label.sk-toggleable__label {background-color: #d4ebff;}#sk-container-id-9 input.sk-hidden--visually {border: 0;clip: rect(1px 1px 1px 1px);clip: rect(1px, 1px, 1px, 1px);height: 1px;margin: -1px;overflow: hidden;padding: 0;position: absolute;width: 1px;}#sk-container-id-9 div.sk-estimator {font-family: monospace;background-color: #f0f8ff;border: 1px dotted black;border-radius: 0.25em;box-sizing: border-box;margin-bottom: 0.5em;}#sk-container-id-9 div.sk-estimator:hover {background-color: #d4ebff;}#sk-container-id-9 div.sk-parallel-item::after {content: \"\";width: 100%;border-bottom: 1px solid gray;flex-grow: 1;}#sk-container-id-9 div.sk-label:hover label.sk-toggleable__label {background-color: #d4ebff;}#sk-container-id-9 div.sk-serial::before {content: \"\";position: absolute;border-left: 1px solid gray;box-sizing: border-box;top: 0;bottom: 0;left: 50%;z-index: 0;}#sk-container-id-9 div.sk-serial {display: flex;flex-direction: column;align-items: center;background-color: white;padding-right: 0.2em;padding-left: 0.2em;position: relative;}#sk-container-id-9 div.sk-item {position: relative;z-index: 1;}#sk-container-id-9 div.sk-parallel {display: flex;align-items: stretch;justify-content: center;background-color: white;position: relative;}#sk-container-id-9 div.sk-item::before, #sk-container-id-9 div.sk-parallel-item::before {content: \"\";position: absolute;border-left: 1px solid gray;box-sizing: border-box;top: 0;bottom: 0;left: 50%;z-index: -1;}#sk-container-id-9 div.sk-parallel-item {display: flex;flex-direction: column;z-index: 1;position: relative;background-color: white;}#sk-container-id-9 div.sk-parallel-item:first-child::after {align-self: flex-end;width: 50%;}#sk-container-id-9 div.sk-parallel-item:last-child::after {align-self: flex-start;width: 50%;}#sk-container-id-9 div.sk-parallel-item:only-child::after {width: 0;}#sk-container-id-9 div.sk-dashed-wrapped {border: 1px dashed gray;margin: 0 0.4em 0.5em 0.4em;box-sizing: border-box;padding-bottom: 0.4em;background-color: white;}#sk-container-id-9 div.sk-label label {font-family: monospace;font-weight: bold;display: inline-block;line-height: 1.2em;}#sk-container-id-9 div.sk-label-container {text-align: center;}#sk-container-id-9 div.sk-container {/* jupyter's `normalize.less` sets `[hidden] { display: none; }` but bootstrap.min.css set `[hidden] { display: none !important; }` so we also need the `!important` here to be able to override the default hidden behavior on the sphinx rendered scikit-learn.org. See: https://github.com/scikit-learn/scikit-learn/issues/21755 */display: inline-block !important;position: relative;}#sk-container-id-9 div.sk-text-repr-fallback {display: none;}</style><div id=\"sk-container-id-9\" class=\"sk-top-container\"><div class=\"sk-text-repr-fallback\"><pre>TfidfVectorizer(max_features=5000, ngram_range=(1, 3), token_pattern=&#x27;w{1,}&#x27;)</pre><b>In a Jupyter environment, please rerun this cell to show the HTML representation or trust the notebook. <br />On GitHub, the HTML representation is unable to render, please try loading this page with nbviewer.org.</b></div><div class=\"sk-container\" hidden><div class=\"sk-item\"><div class=\"sk-estimator sk-toggleable\"><input class=\"sk-toggleable__control sk-hidden--visually\" id=\"sk-estimator-id-9\" type=\"checkbox\" checked><label for=\"sk-estimator-id-9\" class=\"sk-toggleable__label sk-toggleable__label-arrow\">TfidfVectorizer</label><div class=\"sk-toggleable__content\"><pre>TfidfVectorizer(max_features=5000, ngram_range=(1, 3), token_pattern=&#x27;w{1,}&#x27;)</pre></div></div></div></div></div>"
      ],
      "text/plain": [
       "TfidfVectorizer(max_features=5000, ngram_range=(1, 3), token_pattern='w{1,}')"
      ]
     },
     "execution_count": 35,
     "metadata": {},
     "output_type": "execute_result"
    }
   ],
   "source": [
    "tfidf_vect_ngram = TfidfVectorizer(analyzer='word', token_pattern=r'w{1,}', ngram_range=(1, 3), max_features=5000)\n",
    "tfidf_vect_ngram.fit(data['keyword_name'])"
   ]
  },
  {
   "cell_type": "code",
   "execution_count": 36,
   "id": "469bb987",
   "metadata": {},
   "outputs": [],
   "source": [
    "tfidf_vect_ngram = tfidf_vect_ngram.transform(data['keyword_name'])"
   ]
  },
  {
   "cell_type": "markdown",
   "id": "77dddf5f",
   "metadata": {},
   "source": [
    "**Characters level Tfidf**"
   ]
  },
  {
   "cell_type": "code",
   "execution_count": 37,
   "id": "4fcdb621",
   "metadata": {},
   "outputs": [
    {
     "data": {
      "text/html": [
       "<style>#sk-container-id-10 {color: black;background-color: white;}#sk-container-id-10 pre{padding: 0;}#sk-container-id-10 div.sk-toggleable {background-color: white;}#sk-container-id-10 label.sk-toggleable__label {cursor: pointer;display: block;width: 100%;margin-bottom: 0;padding: 0.3em;box-sizing: border-box;text-align: center;}#sk-container-id-10 label.sk-toggleable__label-arrow:before {content: \"▸\";float: left;margin-right: 0.25em;color: #696969;}#sk-container-id-10 label.sk-toggleable__label-arrow:hover:before {color: black;}#sk-container-id-10 div.sk-estimator:hover label.sk-toggleable__label-arrow:before {color: black;}#sk-container-id-10 div.sk-toggleable__content {max-height: 0;max-width: 0;overflow: hidden;text-align: left;background-color: #f0f8ff;}#sk-container-id-10 div.sk-toggleable__content pre {margin: 0.2em;color: black;border-radius: 0.25em;background-color: #f0f8ff;}#sk-container-id-10 input.sk-toggleable__control:checked~div.sk-toggleable__content {max-height: 200px;max-width: 100%;overflow: auto;}#sk-container-id-10 input.sk-toggleable__control:checked~label.sk-toggleable__label-arrow:before {content: \"▾\";}#sk-container-id-10 div.sk-estimator input.sk-toggleable__control:checked~label.sk-toggleable__label {background-color: #d4ebff;}#sk-container-id-10 div.sk-label input.sk-toggleable__control:checked~label.sk-toggleable__label {background-color: #d4ebff;}#sk-container-id-10 input.sk-hidden--visually {border: 0;clip: rect(1px 1px 1px 1px);clip: rect(1px, 1px, 1px, 1px);height: 1px;margin: -1px;overflow: hidden;padding: 0;position: absolute;width: 1px;}#sk-container-id-10 div.sk-estimator {font-family: monospace;background-color: #f0f8ff;border: 1px dotted black;border-radius: 0.25em;box-sizing: border-box;margin-bottom: 0.5em;}#sk-container-id-10 div.sk-estimator:hover {background-color: #d4ebff;}#sk-container-id-10 div.sk-parallel-item::after {content: \"\";width: 100%;border-bottom: 1px solid gray;flex-grow: 1;}#sk-container-id-10 div.sk-label:hover label.sk-toggleable__label {background-color: #d4ebff;}#sk-container-id-10 div.sk-serial::before {content: \"\";position: absolute;border-left: 1px solid gray;box-sizing: border-box;top: 0;bottom: 0;left: 50%;z-index: 0;}#sk-container-id-10 div.sk-serial {display: flex;flex-direction: column;align-items: center;background-color: white;padding-right: 0.2em;padding-left: 0.2em;position: relative;}#sk-container-id-10 div.sk-item {position: relative;z-index: 1;}#sk-container-id-10 div.sk-parallel {display: flex;align-items: stretch;justify-content: center;background-color: white;position: relative;}#sk-container-id-10 div.sk-item::before, #sk-container-id-10 div.sk-parallel-item::before {content: \"\";position: absolute;border-left: 1px solid gray;box-sizing: border-box;top: 0;bottom: 0;left: 50%;z-index: -1;}#sk-container-id-10 div.sk-parallel-item {display: flex;flex-direction: column;z-index: 1;position: relative;background-color: white;}#sk-container-id-10 div.sk-parallel-item:first-child::after {align-self: flex-end;width: 50%;}#sk-container-id-10 div.sk-parallel-item:last-child::after {align-self: flex-start;width: 50%;}#sk-container-id-10 div.sk-parallel-item:only-child::after {width: 0;}#sk-container-id-10 div.sk-dashed-wrapped {border: 1px dashed gray;margin: 0 0.4em 0.5em 0.4em;box-sizing: border-box;padding-bottom: 0.4em;background-color: white;}#sk-container-id-10 div.sk-label label {font-family: monospace;font-weight: bold;display: inline-block;line-height: 1.2em;}#sk-container-id-10 div.sk-label-container {text-align: center;}#sk-container-id-10 div.sk-container {/* jupyter's `normalize.less` sets `[hidden] { display: none; }` but bootstrap.min.css set `[hidden] { display: none !important; }` so we also need the `!important` here to be able to override the default hidden behavior on the sphinx rendered scikit-learn.org. See: https://github.com/scikit-learn/scikit-learn/issues/21755 */display: inline-block !important;position: relative;}#sk-container-id-10 div.sk-text-repr-fallback {display: none;}</style><div id=\"sk-container-id-10\" class=\"sk-top-container\"><div class=\"sk-text-repr-fallback\"><pre>TfidfVectorizer(max_features=5000, ngram_range=(1, 3), token_pattern=&#x27;\\\\w{1,}&#x27;)</pre><b>In a Jupyter environment, please rerun this cell to show the HTML representation or trust the notebook. <br />On GitHub, the HTML representation is unable to render, please try loading this page with nbviewer.org.</b></div><div class=\"sk-container\" hidden><div class=\"sk-item\"><div class=\"sk-estimator sk-toggleable\"><input class=\"sk-toggleable__control sk-hidden--visually\" id=\"sk-estimator-id-10\" type=\"checkbox\" checked><label for=\"sk-estimator-id-10\" class=\"sk-toggleable__label sk-toggleable__label-arrow\">TfidfVectorizer</label><div class=\"sk-toggleable__content\"><pre>TfidfVectorizer(max_features=5000, ngram_range=(1, 3), token_pattern=&#x27;\\\\w{1,}&#x27;)</pre></div></div></div></div></div>"
      ],
      "text/plain": [
       "TfidfVectorizer(max_features=5000, ngram_range=(1, 3), token_pattern='\\\\w{1,}')"
      ]
     },
     "execution_count": 37,
     "metadata": {},
     "output_type": "execute_result"
    }
   ],
   "source": [
    "tfidf_vect_ngram_chars = TfidfVectorizer(analyzer='word', token_pattern=r'\\w{1,}', ngram_range=(1, 3), max_features=5000)\n",
    "tfidf_vect_ngram_chars.fit(data['keyword_name'])"
   ]
  },
  {
   "cell_type": "code",
   "execution_count": 38,
   "id": "ca6ffb6c",
   "metadata": {},
   "outputs": [],
   "source": [
    "tfidf_vect_ngram_chars = tfidf_vect_ngram_chars.transform(data['keyword_name'])"
   ]
  },
  {
   "cell_type": "markdown",
   "id": "87c5f1b7",
   "metadata": {},
   "source": [
    "# Definining number of clusters and applying KMeans unsupervised algorithm"
   ]
  },
  {
   "cell_type": "code",
   "execution_count": 39,
   "id": "f0577399",
   "metadata": {},
   "outputs": [
    {
     "name": "stdout",
     "output_type": "stream",
     "text": [
      "No. of clusters:  7\n",
      "Cluster_Count\n",
      "4    67\n",
      "5     9\n",
      "3     6\n",
      "0     6\n",
      "1     5\n",
      "2     4\n",
      "6     3\n",
      "Name: ClusterID, dtype: int64\n"
     ]
    }
   ],
   "source": [
    "best_cluster = 0\n",
    "previous_silh_avg = 0.0\n",
    "for n_clusters in range(2, 10):\n",
    "    clusterer = KMeans(n_clusters, init='k-means++', random_state=1)\n",
    "    cluster_labels = clusterer.fit_predict(Count_Vector)\n",
    "    silhouette_avg = silhouette_score(Count_Vector, cluster_labels, sample_size=3000)\n",
    "    if silhouette_avg > previous_silh_avg:\n",
    "        previous_silh_avg = silhouette_avg\n",
    "        best_clusters = n_clusters\n",
    "print('No. of clusters: ', best_clusters)\n",
    "num_clusters = best_clusters\n",
    "km = KMeans(n_clusters = num_clusters, init='k-means++', random_state=1).fit(Count_Vector)\n",
    "clusters = km.labels_.tolist()\n",
    "data['ClusterID'] = clusters\n",
    "print('Cluster_Count')\n",
    "print(data['ClusterID'].value_counts())"
   ]
  },
  {
   "cell_type": "markdown",
   "id": "8b72ec4e",
   "metadata": {},
   "source": [
    "# Defining centroids"
   ]
  },
  {
   "cell_type": "code",
   "execution_count": 42,
   "id": "104bac53",
   "metadata": {},
   "outputs": [],
   "source": [
    "tfidf_vectorizer = TfidfVectorizer(use_idf=True, ngram_range = (1, 3))\n",
    "tfidf_vectorizer.fit_transform(data['keyword_name'].tolist())\n",
    "feature_names = tfidf_vectorizer.get_feature_names()\n",
    "order_centroids = km.cluster_centers_.argsort()[:, ::-1]\n",
    "Clusters = pd.DataFrame()\n",
    "for i in range(num_clusters):\n",
    "    Clusters.at[int(i), 'No'] = int(i)\n",
    "    Clusters.at[i, 'Words'] = (','.join([feature_names[x] for x in order_centroids[i, :10]]))\n",
    "\n",
    "Clusters['No'] = Clusters.No.astype(int)"
   ]
  },
  {
   "cell_type": "markdown",
   "id": "332f703a",
   "metadata": {},
   "source": [
    "# Final datasets"
   ]
  },
  {
   "cell_type": "code",
   "execution_count": 44,
   "id": "28fd3109",
   "metadata": {},
   "outputs": [],
   "source": [
    "colNames = ('Frequency', 'Word', 'Cluster_No', 'Cluster_Name', 'TopWords', 'Incident Count')\n",
    "masterDF = pd.DataFrame(columns = colNames)"
   ]
  },
  {
   "cell_type": "code",
   "execution_count": 45,
   "id": "bd8a565d",
   "metadata": {},
   "outputs": [
    {
     "name": "stderr",
     "output_type": "stream",
     "text": [
      "C:\\Users\\ml_da\\anaconda3\\envs\\nlp\\lib\\site-packages\\sklearn\\utils\\deprecation.py:87: FutureWarning: Function get_feature_names is deprecated; get_feature_names is deprecated in 1.0 and will be removed in 1.2. Please use get_feature_names_out instead.\n",
      "  warnings.warn(msg, category=FutureWarning)\n",
      "C:\\Users\\ml_da\\AppData\\Local\\Temp\\ipykernel_24276\\1428718164.py:27: FutureWarning: The frame.append method is deprecated and will be removed from pandas in a future version. Use pandas.concat instead.\n",
      "  masterDF = masterDF.append(NGram, ignore_index = True)\n",
      "C:\\Users\\ml_da\\anaconda3\\envs\\nlp\\lib\\site-packages\\sklearn\\utils\\deprecation.py:87: FutureWarning: Function get_feature_names is deprecated; get_feature_names is deprecated in 1.0 and will be removed in 1.2. Please use get_feature_names_out instead.\n",
      "  warnings.warn(msg, category=FutureWarning)\n",
      "C:\\Users\\ml_da\\AppData\\Local\\Temp\\ipykernel_24276\\1428718164.py:27: FutureWarning: The frame.append method is deprecated and will be removed from pandas in a future version. Use pandas.concat instead.\n",
      "  masterDF = masterDF.append(NGram, ignore_index = True)\n",
      "C:\\Users\\ml_da\\anaconda3\\envs\\nlp\\lib\\site-packages\\sklearn\\utils\\deprecation.py:87: FutureWarning: Function get_feature_names is deprecated; get_feature_names is deprecated in 1.0 and will be removed in 1.2. Please use get_feature_names_out instead.\n",
      "  warnings.warn(msg, category=FutureWarning)\n",
      "C:\\Users\\ml_da\\AppData\\Local\\Temp\\ipykernel_24276\\1428718164.py:27: FutureWarning: The frame.append method is deprecated and will be removed from pandas in a future version. Use pandas.concat instead.\n",
      "  masterDF = masterDF.append(NGram, ignore_index = True)\n",
      "C:\\Users\\ml_da\\anaconda3\\envs\\nlp\\lib\\site-packages\\sklearn\\utils\\deprecation.py:87: FutureWarning: Function get_feature_names is deprecated; get_feature_names is deprecated in 1.0 and will be removed in 1.2. Please use get_feature_names_out instead.\n",
      "  warnings.warn(msg, category=FutureWarning)\n",
      "C:\\Users\\ml_da\\AppData\\Local\\Temp\\ipykernel_24276\\1428718164.py:27: FutureWarning: The frame.append method is deprecated and will be removed from pandas in a future version. Use pandas.concat instead.\n",
      "  masterDF = masterDF.append(NGram, ignore_index = True)\n",
      "C:\\Users\\ml_da\\anaconda3\\envs\\nlp\\lib\\site-packages\\sklearn\\utils\\deprecation.py:87: FutureWarning: Function get_feature_names is deprecated; get_feature_names is deprecated in 1.0 and will be removed in 1.2. Please use get_feature_names_out instead.\n",
      "  warnings.warn(msg, category=FutureWarning)\n",
      "C:\\Users\\ml_da\\AppData\\Local\\Temp\\ipykernel_24276\\1428718164.py:27: FutureWarning: The frame.append method is deprecated and will be removed from pandas in a future version. Use pandas.concat instead.\n",
      "  masterDF = masterDF.append(NGram, ignore_index = True)\n",
      "C:\\Users\\ml_da\\anaconda3\\envs\\nlp\\lib\\site-packages\\sklearn\\utils\\deprecation.py:87: FutureWarning: Function get_feature_names is deprecated; get_feature_names is deprecated in 1.0 and will be removed in 1.2. Please use get_feature_names_out instead.\n",
      "  warnings.warn(msg, category=FutureWarning)\n",
      "C:\\Users\\ml_da\\AppData\\Local\\Temp\\ipykernel_24276\\1428718164.py:27: FutureWarning: The frame.append method is deprecated and will be removed from pandas in a future version. Use pandas.concat instead.\n",
      "  masterDF = masterDF.append(NGram, ignore_index = True)\n",
      "C:\\Users\\ml_da\\anaconda3\\envs\\nlp\\lib\\site-packages\\sklearn\\utils\\deprecation.py:87: FutureWarning: Function get_feature_names is deprecated; get_feature_names is deprecated in 1.0 and will be removed in 1.2. Please use get_feature_names_out instead.\n",
      "  warnings.warn(msg, category=FutureWarning)\n",
      "C:\\Users\\ml_da\\AppData\\Local\\Temp\\ipykernel_24276\\1428718164.py:27: FutureWarning: The frame.append method is deprecated and will be removed from pandas in a future version. Use pandas.concat instead.\n",
      "  masterDF = masterDF.append(NGram, ignore_index = True)\n"
     ]
    }
   ],
   "source": [
    "for i in Clusters['No']:\n",
    "    N_G = data.loc[data['ClusterID'] == i]\n",
    "    try:\n",
    "        word_vectorizer = CountVectorizer(ngram_range=(4,4), analyzer='word')\n",
    "        sparse_matrix = word_vectorizer.fit_transform(N_G['keyword_name'])\n",
    "    \n",
    "    except ValueError:\n",
    "        try:\n",
    "            word_vectorizer = CountVectorizer(ngram_range=(3,3), analyzer='word')\n",
    "            sparse_matrix = word_vectorizer.fit_transform(N_G['keyword_name'])\n",
    "        \n",
    "        except ValueError:\n",
    "            word_vectorizer = CountVectorizer(ngram_range=(2,2), analyzer='word')\n",
    "            sparse_matrix = word_vectorizer.fit_transform(N_G['keyword_name'])\n",
    "    \n",
    "    frequencies = sum(sparse_matrix).toarray()[0]\n",
    "    NGram = pd.DataFrame(frequencies, index = word_vectorizer.get_feature_names(), columns=['Frequency'])\n",
    "    NGram['Word'] = NGram.index\n",
    "    NGram.reset_index(drop=True, inplace=True)\n",
    "    NGram = NGram.sort_values('Frequency', ascending = [False])\n",
    "    NGram['Cluster_No'] = i\n",
    "    NGram['Cluster_Name'] = NGram['Word'].head(1).to_string(index = False)\n",
    "    NGram['TopWords'] = ','.join(NGram[\"Word\"].head(10).to_string(header=False, index=False).split('\\n')[1:10])\n",
    "    NGram['Incident Count'] = len(data.loc[data['ClusterID']==i])\n",
    "    NGram = NGram.iloc[0]\n",
    "    \n",
    "    masterDF = masterDF.append(NGram, ignore_index = True)"
   ]
  },
  {
   "cell_type": "code",
   "execution_count": 46,
   "id": "a98f14e1",
   "metadata": {},
   "outputs": [
    {
     "data": {
      "text/html": [
       "<div>\n",
       "<style scoped>\n",
       "    .dataframe tbody tr th:only-of-type {\n",
       "        vertical-align: middle;\n",
       "    }\n",
       "\n",
       "    .dataframe tbody tr th {\n",
       "        vertical-align: top;\n",
       "    }\n",
       "\n",
       "    .dataframe thead th {\n",
       "        text-align: right;\n",
       "    }\n",
       "</style>\n",
       "<table border=\"1\" class=\"dataframe\">\n",
       "  <thead>\n",
       "    <tr style=\"text-align: right;\">\n",
       "      <th></th>\n",
       "      <th>Frequency</th>\n",
       "      <th>Word</th>\n",
       "      <th>Cluster_No</th>\n",
       "      <th>Cluster_Name</th>\n",
       "      <th>TopWords</th>\n",
       "      <th>Incident Count</th>\n",
       "    </tr>\n",
       "  </thead>\n",
       "  <tbody>\n",
       "    <tr>\n",
       "      <th>0</th>\n",
       "      <td>1</td>\n",
       "      <td>longevity services</td>\n",
       "      <td>0</td>\n",
       "      <td>longevity services</td>\n",
       "      <td>nutrition chaga,nutrition longevity, nutri...</td>\n",
       "      <td>6</td>\n",
       "    </tr>\n",
       "    <tr>\n",
       "      <th>1</th>\n",
       "      <td>1</td>\n",
       "      <td>asthma parenting</td>\n",
       "      <td>1</td>\n",
       "      <td>asthma parenting</td>\n",
       "      <td>habits parenting,health parenting,  parenting ...</td>\n",
       "      <td>5</td>\n",
       "    </tr>\n",
       "    <tr>\n",
       "      <th>2</th>\n",
       "      <td>1</td>\n",
       "      <td>health tags</td>\n",
       "      <td>2</td>\n",
       "      <td>health tags</td>\n",
       "      <td>health wellness,  mental health, natural health</td>\n",
       "      <td>4</td>\n",
       "    </tr>\n",
       "    <tr>\n",
       "      <th>3</th>\n",
       "      <td>1</td>\n",
       "      <td>considering diet</td>\n",
       "      <td>3</td>\n",
       "      <td>considering diet</td>\n",
       "      <td>diet nutrition,d...</td>\n",
       "      <td>6</td>\n",
       "    </tr>\n",
       "    <tr>\n",
       "      <th>4</th>\n",
       "      <td>1</td>\n",
       "      <td>2022 bpossible</td>\n",
       "      <td>4</td>\n",
       "      <td>2022 bpossible</td>\n",
       "      <td>harmful chemicals,          healthy meal...</td>\n",
       "      <td>67</td>\n",
       "    </tr>\n",
       "    <tr>\n",
       "      <th>5</th>\n",
       "      <td>1</td>\n",
       "      <td>fitness benefits</td>\n",
       "      <td>5</td>\n",
       "      <td>fitness benefits</td>\n",
       "      <td>fitness bodybuilding,  fitness importance,    ...</td>\n",
       "      <td>9</td>\n",
       "    </tr>\n",
       "    <tr>\n",
       "      <th>6</th>\n",
       "      <td>1</td>\n",
       "      <td>affect child</td>\n",
       "      <td>6</td>\n",
       "      <td>affect child</td>\n",
       "      <td>child develop, child weight</td>\n",
       "      <td>3</td>\n",
       "    </tr>\n",
       "  </tbody>\n",
       "</table>\n",
       "</div>"
      ],
      "text/plain": [
       "  Frequency                Word Cluster_No        Cluster_Name  \\\n",
       "0         1  longevity services          0  longevity services   \n",
       "1         1    asthma parenting          1    asthma parenting   \n",
       "2         1         health tags          2         health tags   \n",
       "3         1    considering diet          3    considering diet   \n",
       "4         1      2022 bpossible          4      2022 bpossible   \n",
       "5         1    fitness benefits          5    fitness benefits   \n",
       "6         1        affect child          6        affect child   \n",
       "\n",
       "                                            TopWords Incident Count  \n",
       "0      nutrition chaga,nutrition longevity, nutri...              6  \n",
       "1  habits parenting,health parenting,  parenting ...              5  \n",
       "2    health wellness,  mental health, natural health              4  \n",
       "3                                diet nutrition,d...              6  \n",
       "4        harmful chemicals,          healthy meal...             67  \n",
       "5  fitness bodybuilding,  fitness importance,    ...              9  \n",
       "6                        child develop, child weight              3  "
      ]
     },
     "execution_count": 46,
     "metadata": {},
     "output_type": "execute_result"
    }
   ],
   "source": [
    "masterDF"
   ]
  },
  {
   "cell_type": "markdown",
   "id": "07e1f6f9",
   "metadata": {},
   "source": [
    "**Save all data**"
   ]
  },
  {
   "cell_type": "code",
   "execution_count": 47,
   "id": "a18a4199",
   "metadata": {},
   "outputs": [],
   "source": [
    "#masterDF.to_csv(r\"C:\\Users\\ml_da\\masterDF_Prototype.csv\")"
   ]
  },
  {
   "cell_type": "markdown",
   "id": "7d980498",
   "metadata": {},
   "source": [
    "# Final Table "
   ]
  },
  {
   "cell_type": "code",
   "execution_count": 48,
   "id": "f3bc3f2b",
   "metadata": {},
   "outputs": [
    {
     "data": {
      "text/html": [
       "<div>\n",
       "<style scoped>\n",
       "    .dataframe tbody tr th:only-of-type {\n",
       "        vertical-align: middle;\n",
       "    }\n",
       "\n",
       "    .dataframe tbody tr th {\n",
       "        vertical-align: top;\n",
       "    }\n",
       "\n",
       "    .dataframe thead th {\n",
       "        text-align: right;\n",
       "    }\n",
       "</style>\n",
       "<table border=\"1\" class=\"dataframe\">\n",
       "  <thead>\n",
       "    <tr style=\"text-align: right;\">\n",
       "      <th></th>\n",
       "      <th>Cluster_No</th>\n",
       "      <th>Cluster_Name</th>\n",
       "      <th>TopWords</th>\n",
       "      <th>Incident Count</th>\n",
       "    </tr>\n",
       "  </thead>\n",
       "  <tbody>\n",
       "    <tr>\n",
       "      <th>0</th>\n",
       "      <td>0</td>\n",
       "      <td>longevity services</td>\n",
       "      <td>nutrition chaga,nutrition longevity, nutri...</td>\n",
       "      <td>6</td>\n",
       "    </tr>\n",
       "    <tr>\n",
       "      <th>1</th>\n",
       "      <td>1</td>\n",
       "      <td>asthma parenting</td>\n",
       "      <td>habits parenting,health parenting,  parenting ...</td>\n",
       "      <td>5</td>\n",
       "    </tr>\n",
       "    <tr>\n",
       "      <th>2</th>\n",
       "      <td>2</td>\n",
       "      <td>health tags</td>\n",
       "      <td>health wellness,  mental health, natural health</td>\n",
       "      <td>4</td>\n",
       "    </tr>\n",
       "    <tr>\n",
       "      <th>3</th>\n",
       "      <td>3</td>\n",
       "      <td>considering diet</td>\n",
       "      <td>diet nutrition,d...</td>\n",
       "      <td>6</td>\n",
       "    </tr>\n",
       "    <tr>\n",
       "      <th>4</th>\n",
       "      <td>4</td>\n",
       "      <td>2022 bpossible</td>\n",
       "      <td>harmful chemicals,          healthy meal...</td>\n",
       "      <td>67</td>\n",
       "    </tr>\n",
       "    <tr>\n",
       "      <th>5</th>\n",
       "      <td>5</td>\n",
       "      <td>fitness benefits</td>\n",
       "      <td>fitness bodybuilding,  fitness importance,    ...</td>\n",
       "      <td>9</td>\n",
       "    </tr>\n",
       "    <tr>\n",
       "      <th>6</th>\n",
       "      <td>6</td>\n",
       "      <td>affect child</td>\n",
       "      <td>child develop, child weight</td>\n",
       "      <td>3</td>\n",
       "    </tr>\n",
       "  </tbody>\n",
       "</table>\n",
       "</div>"
      ],
      "text/plain": [
       "  Cluster_No        Cluster_Name  \\\n",
       "0          0  longevity services   \n",
       "1          1    asthma parenting   \n",
       "2          2         health tags   \n",
       "3          3    considering diet   \n",
       "4          4      2022 bpossible   \n",
       "5          5    fitness benefits   \n",
       "6          6        affect child   \n",
       "\n",
       "                                            TopWords Incident Count  \n",
       "0      nutrition chaga,nutrition longevity, nutri...              6  \n",
       "1  habits parenting,health parenting,  parenting ...              5  \n",
       "2    health wellness,  mental health, natural health              4  \n",
       "3                                diet nutrition,d...              6  \n",
       "4        harmful chemicals,          healthy meal...             67  \n",
       "5  fitness bodybuilding,  fitness importance,    ...              9  \n",
       "6                        child develop, child weight              3  "
      ]
     },
     "execution_count": 48,
     "metadata": {},
     "output_type": "execute_result"
    }
   ],
   "source": [
    "masterDF1 = masterDF.drop(['Frequency','Word'], axis=1)\n",
    "masterDF1"
   ]
  },
  {
   "cell_type": "markdown",
   "id": "3e7fa334",
   "metadata": {},
   "source": [
    "**Save Final table**"
   ]
  },
  {
   "cell_type": "code",
   "execution_count": 49,
   "id": "cabf70cd",
   "metadata": {},
   "outputs": [],
   "source": [
    "#masterDF1.to_csv(r\"C:\\Users\\ml_da\\masterDF.csv\")"
   ]
  },
  {
   "cell_type": "markdown",
   "id": "dd5d765a",
   "metadata": {},
   "source": [
    "# Visualization"
   ]
  },
  {
   "cell_type": "markdown",
   "id": "377f9530",
   "metadata": {},
   "source": [
    "**Seaborn**"
   ]
  },
  {
   "cell_type": "code",
   "execution_count": 50,
   "id": "a7813afd",
   "metadata": {},
   "outputs": [],
   "source": [
    "pca = PCA(n_components=2, random_state=42)\n",
    "pca_vecs = pca.fit_transform(Count_Vector.toarray())\n",
    "X0 = pca_vecs[:, 0]\n",
    "X1 = pca_vecs[:, 1]"
   ]
  },
  {
   "cell_type": "code",
   "execution_count": 51,
   "id": "dcaf11d6",
   "metadata": {},
   "outputs": [
    {
     "data": {
      "text/html": [
       "<div>\n",
       "<style scoped>\n",
       "    .dataframe tbody tr th:only-of-type {\n",
       "        vertical-align: middle;\n",
       "    }\n",
       "\n",
       "    .dataframe tbody tr th {\n",
       "        vertical-align: top;\n",
       "    }\n",
       "\n",
       "    .dataframe thead th {\n",
       "        text-align: right;\n",
       "    }\n",
       "</style>\n",
       "<table border=\"1\" class=\"dataframe\">\n",
       "  <thead>\n",
       "    <tr style=\"text-align: right;\">\n",
       "      <th></th>\n",
       "      <th>keyword_name</th>\n",
       "      <th>Cluster</th>\n",
       "    </tr>\n",
       "  </thead>\n",
       "  <tbody>\n",
       "    <tr>\n",
       "      <th>0</th>\n",
       "      <td>paleo diet</td>\n",
       "      <td>3</td>\n",
       "    </tr>\n",
       "    <tr>\n",
       "      <th>1</th>\n",
       "      <td>nutrition trending</td>\n",
       "      <td>0</td>\n",
       "    </tr>\n",
       "    <tr>\n",
       "      <th>2</th>\n",
       "      <td>best supplements</td>\n",
       "      <td>4</td>\n",
       "    </tr>\n",
       "    <tr>\n",
       "      <th>3</th>\n",
       "      <td>nutrition chaga</td>\n",
       "      <td>0</td>\n",
       "    </tr>\n",
       "    <tr>\n",
       "      <th>4</th>\n",
       "      <td>documentaries access</td>\n",
       "      <td>4</td>\n",
       "    </tr>\n",
       "    <tr>\n",
       "      <th>...</th>\n",
       "      <td>...</td>\n",
       "      <td>...</td>\n",
       "    </tr>\n",
       "    <tr>\n",
       "      <th>95</th>\n",
       "      <td>prenatal vitamins</td>\n",
       "      <td>4</td>\n",
       "    </tr>\n",
       "    <tr>\n",
       "      <th>96</th>\n",
       "      <td>parenting faqs</td>\n",
       "      <td>1</td>\n",
       "    </tr>\n",
       "    <tr>\n",
       "      <th>97</th>\n",
       "      <td>good prenatal</td>\n",
       "      <td>4</td>\n",
       "    </tr>\n",
       "    <tr>\n",
       "      <th>98</th>\n",
       "      <td>habits parenting</td>\n",
       "      <td>1</td>\n",
       "    </tr>\n",
       "    <tr>\n",
       "      <th>99</th>\n",
       "      <td>asthma parenting</td>\n",
       "      <td>1</td>\n",
       "    </tr>\n",
       "  </tbody>\n",
       "</table>\n",
       "<p>100 rows × 2 columns</p>\n",
       "</div>"
      ],
      "text/plain": [
       "            keyword_name  Cluster\n",
       "0             paleo diet        3\n",
       "1     nutrition trending        0\n",
       "2       best supplements        4\n",
       "3        nutrition chaga        0\n",
       "4   documentaries access        4\n",
       "..                   ...      ...\n",
       "95     prenatal vitamins        4\n",
       "96        parenting faqs        1\n",
       "97         good prenatal        4\n",
       "98      habits parenting        1\n",
       "99      asthma parenting        1\n",
       "\n",
       "[100 rows x 2 columns]"
      ]
     },
     "execution_count": 51,
     "metadata": {},
     "output_type": "execute_result"
    }
   ],
   "source": [
    "masterDF_plot = pd.DataFrame(data, columns=['keyword_name'])\n",
    "masterDF_plot['Cluster'] = km.labels_\n",
    "masterDF_plot"
   ]
  },
  {
   "cell_type": "code",
   "execution_count": 53,
   "id": "22515f19",
   "metadata": {},
   "outputs": [
    {
     "data": {
      "text/html": [
       "<div>\n",
       "<style scoped>\n",
       "    .dataframe tbody tr th:only-of-type {\n",
       "        vertical-align: middle;\n",
       "    }\n",
       "\n",
       "    .dataframe tbody tr th {\n",
       "        vertical-align: top;\n",
       "    }\n",
       "\n",
       "    .dataframe thead th {\n",
       "        text-align: right;\n",
       "    }\n",
       "</style>\n",
       "<table border=\"1\" class=\"dataframe\">\n",
       "  <thead>\n",
       "    <tr style=\"text-align: right;\">\n",
       "      <th></th>\n",
       "      <th>keyword_name</th>\n",
       "      <th>Cluster</th>\n",
       "      <th>x0</th>\n",
       "      <th>y0</th>\n",
       "    </tr>\n",
       "  </thead>\n",
       "  <tbody>\n",
       "    <tr>\n",
       "      <th>0</th>\n",
       "      <td>paleo diet</td>\n",
       "      <td>3</td>\n",
       "      <td>-0.241257</td>\n",
       "      <td>0.820843</td>\n",
       "    </tr>\n",
       "    <tr>\n",
       "      <th>1</th>\n",
       "      <td>nutrition trending</td>\n",
       "      <td>0</td>\n",
       "      <td>-0.126971</td>\n",
       "      <td>0.320844</td>\n",
       "    </tr>\n",
       "    <tr>\n",
       "      <th>2</th>\n",
       "      <td>best supplements</td>\n",
       "      <td>4</td>\n",
       "      <td>-0.075961</td>\n",
       "      <td>-0.023410</td>\n",
       "    </tr>\n",
       "    <tr>\n",
       "      <th>3</th>\n",
       "      <td>nutrition chaga</td>\n",
       "      <td>0</td>\n",
       "      <td>-0.126971</td>\n",
       "      <td>0.320844</td>\n",
       "    </tr>\n",
       "    <tr>\n",
       "      <th>4</th>\n",
       "      <td>documentaries access</td>\n",
       "      <td>4</td>\n",
       "      <td>-0.103744</td>\n",
       "      <td>-0.038660</td>\n",
       "    </tr>\n",
       "    <tr>\n",
       "      <th>...</th>\n",
       "      <td>...</td>\n",
       "      <td>...</td>\n",
       "      <td>...</td>\n",
       "      <td>...</td>\n",
       "    </tr>\n",
       "    <tr>\n",
       "      <th>95</th>\n",
       "      <td>prenatal vitamins</td>\n",
       "      <td>4</td>\n",
       "      <td>-0.087705</td>\n",
       "      <td>-0.029161</td>\n",
       "    </tr>\n",
       "    <tr>\n",
       "      <th>96</th>\n",
       "      <td>parenting faqs</td>\n",
       "      <td>1</td>\n",
       "      <td>-0.194552</td>\n",
       "      <td>-0.437484</td>\n",
       "    </tr>\n",
       "    <tr>\n",
       "      <th>97</th>\n",
       "      <td>good prenatal</td>\n",
       "      <td>4</td>\n",
       "      <td>-0.087705</td>\n",
       "      <td>-0.029161</td>\n",
       "    </tr>\n",
       "    <tr>\n",
       "      <th>98</th>\n",
       "      <td>habits parenting</td>\n",
       "      <td>1</td>\n",
       "      <td>-0.206093</td>\n",
       "      <td>-0.458037</td>\n",
       "    </tr>\n",
       "    <tr>\n",
       "      <th>99</th>\n",
       "      <td>asthma parenting</td>\n",
       "      <td>1</td>\n",
       "      <td>-0.194552</td>\n",
       "      <td>-0.437484</td>\n",
       "    </tr>\n",
       "  </tbody>\n",
       "</table>\n",
       "<p>100 rows × 4 columns</p>\n",
       "</div>"
      ],
      "text/plain": [
       "            keyword_name  Cluster        x0        y0\n",
       "0             paleo diet        3 -0.241257  0.820843\n",
       "1     nutrition trending        0 -0.126971  0.320844\n",
       "2       best supplements        4 -0.075961 -0.023410\n",
       "3        nutrition chaga        0 -0.126971  0.320844\n",
       "4   documentaries access        4 -0.103744 -0.038660\n",
       "..                   ...      ...       ...       ...\n",
       "95     prenatal vitamins        4 -0.087705 -0.029161\n",
       "96        parenting faqs        1 -0.194552 -0.437484\n",
       "97         good prenatal        4 -0.087705 -0.029161\n",
       "98      habits parenting        1 -0.206093 -0.458037\n",
       "99      asthma parenting        1 -0.194552 -0.437484\n",
       "\n",
       "[100 rows x 4 columns]"
      ]
     },
     "execution_count": 53,
     "metadata": {},
     "output_type": "execute_result"
    }
   ],
   "source": [
    "masterDF_plot['x0'] = X0\n",
    "masterDF_plot['y0'] = X1\n",
    "masterDF_plot"
   ]
  },
  {
   "cell_type": "code",
   "execution_count": 56,
   "id": "d8024663",
   "metadata": {},
   "outputs": [],
   "source": [
    "tfidf_vectorizer = TfidfVectorizer(use_idf=True, ngram_range=(1,3))\n",
    "TfidF_vect = tfidf_vectorizer.fit_transform(data['keyword_name'].tolist())\n",
    "pca = PCA(n_components=2, random_state=42)\n",
    "pca_vecs = pca.fit_transform(TfidF_vect.toarray())\n",
    "x00 = pca_vecs[:, 0]\n",
    "x11 = pca_vecs[:, 1]\n",
    "masterDF_plot['x00'] = x00\n",
    "masterDF_plot['x11'] = x11"
   ]
  },
  {
   "cell_type": "code",
   "execution_count": 59,
   "id": "78f172ee",
   "metadata": {},
   "outputs": [],
   "source": [
    "map_cluster = masterDF['Cluster_Name'].to_dict()\n",
    "masterDF_plot['Cluster'] = masterDF_plot['Cluster'].map(map_cluster)"
   ]
  },
  {
   "cell_type": "code",
   "execution_count": 67,
   "id": "aa5c94b4",
   "metadata": {},
   "outputs": [
    {
     "data": {
      "text/html": [
       "<div>\n",
       "<style scoped>\n",
       "    .dataframe tbody tr th:only-of-type {\n",
       "        vertical-align: middle;\n",
       "    }\n",
       "\n",
       "    .dataframe tbody tr th {\n",
       "        vertical-align: top;\n",
       "    }\n",
       "\n",
       "    .dataframe thead th {\n",
       "        text-align: right;\n",
       "    }\n",
       "</style>\n",
       "<table border=\"1\" class=\"dataframe\">\n",
       "  <thead>\n",
       "    <tr style=\"text-align: right;\">\n",
       "      <th></th>\n",
       "      <th>keyword_name</th>\n",
       "      <th>Cluster</th>\n",
       "      <th>x0</th>\n",
       "      <th>y0</th>\n",
       "      <th>x00</th>\n",
       "      <th>x11</th>\n",
       "    </tr>\n",
       "  </thead>\n",
       "  <tbody>\n",
       "    <tr>\n",
       "      <th>0</th>\n",
       "      <td>paleo diet</td>\n",
       "      <td>considering diet</td>\n",
       "      <td>-0.241257</td>\n",
       "      <td>0.820843</td>\n",
       "      <td>-0.114722</td>\n",
       "      <td>-0.173649</td>\n",
       "    </tr>\n",
       "    <tr>\n",
       "      <th>1</th>\n",
       "      <td>nutrition trending</td>\n",
       "      <td>longevity services</td>\n",
       "      <td>-0.126971</td>\n",
       "      <td>0.320844</td>\n",
       "      <td>-0.047331</td>\n",
       "      <td>-0.113164</td>\n",
       "    </tr>\n",
       "    <tr>\n",
       "      <th>2</th>\n",
       "      <td>best supplements</td>\n",
       "      <td>2022 bpossible</td>\n",
       "      <td>-0.075961</td>\n",
       "      <td>-0.023410</td>\n",
       "      <td>-0.031296</td>\n",
       "      <td>-0.005089</td>\n",
       "    </tr>\n",
       "    <tr>\n",
       "      <th>3</th>\n",
       "      <td>nutrition chaga</td>\n",
       "      <td>longevity services</td>\n",
       "      <td>-0.126971</td>\n",
       "      <td>0.320844</td>\n",
       "      <td>-0.047331</td>\n",
       "      <td>-0.113164</td>\n",
       "    </tr>\n",
       "    <tr>\n",
       "      <th>4</th>\n",
       "      <td>documentaries access</td>\n",
       "      <td>2022 bpossible</td>\n",
       "      <td>-0.103744</td>\n",
       "      <td>-0.038660</td>\n",
       "      <td>-0.048248</td>\n",
       "      <td>-0.008985</td>\n",
       "    </tr>\n",
       "    <tr>\n",
       "      <th>...</th>\n",
       "      <td>...</td>\n",
       "      <td>...</td>\n",
       "      <td>...</td>\n",
       "      <td>...</td>\n",
       "      <td>...</td>\n",
       "      <td>...</td>\n",
       "    </tr>\n",
       "    <tr>\n",
       "      <th>95</th>\n",
       "      <td>prenatal vitamins</td>\n",
       "      <td>2022 bpossible</td>\n",
       "      <td>-0.087705</td>\n",
       "      <td>-0.029161</td>\n",
       "      <td>-0.038784</td>\n",
       "      <td>-0.006681</td>\n",
       "    </tr>\n",
       "    <tr>\n",
       "      <th>96</th>\n",
       "      <td>parenting faqs</td>\n",
       "      <td>asthma parenting</td>\n",
       "      <td>-0.194552</td>\n",
       "      <td>-0.437484</td>\n",
       "      <td>-0.120005</td>\n",
       "      <td>-0.160907</td>\n",
       "    </tr>\n",
       "    <tr>\n",
       "      <th>97</th>\n",
       "      <td>good prenatal</td>\n",
       "      <td>2022 bpossible</td>\n",
       "      <td>-0.087705</td>\n",
       "      <td>-0.029161</td>\n",
       "      <td>-0.038784</td>\n",
       "      <td>-0.006681</td>\n",
       "    </tr>\n",
       "    <tr>\n",
       "      <th>98</th>\n",
       "      <td>habits parenting</td>\n",
       "      <td>asthma parenting</td>\n",
       "      <td>-0.206093</td>\n",
       "      <td>-0.458037</td>\n",
       "      <td>-0.130047</td>\n",
       "      <td>-0.175547</td>\n",
       "    </tr>\n",
       "    <tr>\n",
       "      <th>99</th>\n",
       "      <td>asthma parenting</td>\n",
       "      <td>asthma parenting</td>\n",
       "      <td>-0.194552</td>\n",
       "      <td>-0.437484</td>\n",
       "      <td>-0.120005</td>\n",
       "      <td>-0.160907</td>\n",
       "    </tr>\n",
       "  </tbody>\n",
       "</table>\n",
       "<p>100 rows × 6 columns</p>\n",
       "</div>"
      ],
      "text/plain": [
       "            keyword_name             Cluster        x0        y0       x00  \\\n",
       "0             paleo diet    considering diet -0.241257  0.820843 -0.114722   \n",
       "1     nutrition trending  longevity services -0.126971  0.320844 -0.047331   \n",
       "2       best supplements      2022 bpossible -0.075961 -0.023410 -0.031296   \n",
       "3        nutrition chaga  longevity services -0.126971  0.320844 -0.047331   \n",
       "4   documentaries access      2022 bpossible -0.103744 -0.038660 -0.048248   \n",
       "..                   ...                 ...       ...       ...       ...   \n",
       "95     prenatal vitamins      2022 bpossible -0.087705 -0.029161 -0.038784   \n",
       "96        parenting faqs    asthma parenting -0.194552 -0.437484 -0.120005   \n",
       "97         good prenatal      2022 bpossible -0.087705 -0.029161 -0.038784   \n",
       "98      habits parenting    asthma parenting -0.206093 -0.458037 -0.130047   \n",
       "99      asthma parenting    asthma parenting -0.194552 -0.437484 -0.120005   \n",
       "\n",
       "         x11  \n",
       "0  -0.173649  \n",
       "1  -0.113164  \n",
       "2  -0.005089  \n",
       "3  -0.113164  \n",
       "4  -0.008985  \n",
       "..       ...  \n",
       "95 -0.006681  \n",
       "96 -0.160907  \n",
       "97 -0.006681  \n",
       "98 -0.175547  \n",
       "99 -0.160907  \n",
       "\n",
       "[100 rows x 6 columns]"
      ]
     },
     "execution_count": 67,
     "metadata": {},
     "output_type": "execute_result"
    }
   ],
   "source": [
    "masterDF_plot"
   ]
  },
  {
   "cell_type": "code",
   "execution_count": 82,
   "id": "20af9a90",
   "metadata": {},
   "outputs": [
    {
     "data": {
      "image/png": "[encoded data removed]",
      "text/plain": [
       "<Figure size 1200x700 with 1 Axes>"
      ]
     },
     "metadata": {},
     "output_type": "display_data"
    }
   ],
   "source": [
    "plt.figure(figsize=(12,7))\n",
    "plt.title(\"Cluster plot\")\n",
    "plt.xlabel('X0', fontdict={'fontsize':16})\n",
    "plt.ylabel('X1', fontdict={'fontsize':16})\n",
    "sns.scatterplot(data=masterDF_plot, x = \"x00\", y = \"x11\");\n",
    "\n"
   ]
  },
  {
   "cell_type": "markdown",
   "id": "2182d919",
   "metadata": {},
   "source": [
    "# Plot using UMAP"
   ]
  },
  {
   "cell_type": "code",
   "execution_count": 85,
   "id": "f936aebc",
   "metadata": {},
   "outputs": [
    {
     "data": {
      "image/png": "[encoded data removed]",
      "text/plain": [
       "<Figure size 800x800 with 1 Axes>"
      ]
     },
     "metadata": {},
     "output_type": "display_data"
    }
   ],
   "source": [
    "plot_frame = pd.DataFrame(masterDF_plot['Cluster'], columns=['Category'])\n",
    "plot_frame['Category'] = masterDF_plot['Cluster']\n",
    "embeddings = umap.UMAP(n_components = 2, metric = 'cosine').fit(TfidF_vect)\n",
    "f = umap.plot.points(embeddings, labels=plot_frame['Category'])"
   ]
  },
  {
   "cell_type": "markdown",
   "id": "a2f691cb",
   "metadata": {},
   "source": [
    "# Check accuracy and loss"
   ]
  },
  {
   "cell_type": "code",
   "execution_count": 86,
   "id": "b2688960",
   "metadata": {},
   "outputs": [],
   "source": [
    "from sklearn.preprocessing import LabelEncoder\n"
   ]
  },
  {
   "cell_type": "code",
   "execution_count": 90,
   "id": "00798435",
   "metadata": {},
   "outputs": [
    {
     "data": {
      "text/html": [
       "<div>\n",
       "<style scoped>\n",
       "    .dataframe tbody tr th:only-of-type {\n",
       "        vertical-align: middle;\n",
       "    }\n",
       "\n",
       "    .dataframe tbody tr th {\n",
       "        vertical-align: top;\n",
       "    }\n",
       "\n",
       "    .dataframe thead th {\n",
       "        text-align: right;\n",
       "    }\n",
       "</style>\n",
       "<table border=\"1\" class=\"dataframe\">\n",
       "  <thead>\n",
       "    <tr style=\"text-align: right;\">\n",
       "      <th></th>\n",
       "      <th>Cluster</th>\n",
       "      <th>keyword_name</th>\n",
       "      <th>encoded_category</th>\n",
       "    </tr>\n",
       "  </thead>\n",
       "  <tbody>\n",
       "    <tr>\n",
       "      <th>0</th>\n",
       "      <td>considering diet</td>\n",
       "      <td>paleo diet</td>\n",
       "      <td>3</td>\n",
       "    </tr>\n",
       "    <tr>\n",
       "      <th>1</th>\n",
       "      <td>longevity services</td>\n",
       "      <td>nutrition trending</td>\n",
       "      <td>6</td>\n",
       "    </tr>\n",
       "    <tr>\n",
       "      <th>2</th>\n",
       "      <td>2022 bpossible</td>\n",
       "      <td>best supplements</td>\n",
       "      <td>0</td>\n",
       "    </tr>\n",
       "    <tr>\n",
       "      <th>3</th>\n",
       "      <td>longevity services</td>\n",
       "      <td>nutrition chaga</td>\n",
       "      <td>6</td>\n",
       "    </tr>\n",
       "    <tr>\n",
       "      <th>4</th>\n",
       "      <td>2022 bpossible</td>\n",
       "      <td>documentaries access</td>\n",
       "      <td>0</td>\n",
       "    </tr>\n",
       "    <tr>\n",
       "      <th>...</th>\n",
       "      <td>...</td>\n",
       "      <td>...</td>\n",
       "      <td>...</td>\n",
       "    </tr>\n",
       "    <tr>\n",
       "      <th>95</th>\n",
       "      <td>2022 bpossible</td>\n",
       "      <td>prenatal vitamins</td>\n",
       "      <td>0</td>\n",
       "    </tr>\n",
       "    <tr>\n",
       "      <th>96</th>\n",
       "      <td>asthma parenting</td>\n",
       "      <td>parenting faqs</td>\n",
       "      <td>2</td>\n",
       "    </tr>\n",
       "    <tr>\n",
       "      <th>97</th>\n",
       "      <td>2022 bpossible</td>\n",
       "      <td>good prenatal</td>\n",
       "      <td>0</td>\n",
       "    </tr>\n",
       "    <tr>\n",
       "      <th>98</th>\n",
       "      <td>asthma parenting</td>\n",
       "      <td>habits parenting</td>\n",
       "      <td>2</td>\n",
       "    </tr>\n",
       "    <tr>\n",
       "      <th>99</th>\n",
       "      <td>asthma parenting</td>\n",
       "      <td>asthma parenting</td>\n",
       "      <td>2</td>\n",
       "    </tr>\n",
       "  </tbody>\n",
       "</table>\n",
       "<p>100 rows × 3 columns</p>\n",
       "</div>"
      ],
      "text/plain": [
       "               Cluster          keyword_name  encoded_category\n",
       "0     considering diet            paleo diet                 3\n",
       "1   longevity services    nutrition trending                 6\n",
       "2       2022 bpossible      best supplements                 0\n",
       "3   longevity services       nutrition chaga                 6\n",
       "4       2022 bpossible  documentaries access                 0\n",
       "..                 ...                   ...               ...\n",
       "95      2022 bpossible     prenatal vitamins                 0\n",
       "96    asthma parenting        parenting faqs                 2\n",
       "97      2022 bpossible         good prenatal                 0\n",
       "98    asthma parenting      habits parenting                 2\n",
       "99    asthma parenting      asthma parenting                 2\n",
       "\n",
       "[100 rows x 3 columns]"
      ]
     },
     "execution_count": 90,
     "metadata": {},
     "output_type": "execute_result"
    }
   ],
   "source": [
    "df_work = pd.DataFrame(masterDF_plot['Cluster'], columns=['Cluster'])\n",
    "df_work['keyword_name'] = masterDF_plot['keyword_name']\n",
    "df_work['encoded_category'] = LabelEncoder().fit_transform(df_work['Cluster'])\n",
    "df_work"
   ]
  },
  {
   "cell_type": "markdown",
   "id": "5d639d3f",
   "metadata": {},
   "source": [
    "**Create model**"
   ]
  },
  {
   "cell_type": "code",
   "execution_count": 98,
   "id": "7736a891",
   "metadata": {},
   "outputs": [],
   "source": [
    "from sklearn.model_selection import train_test_split\n",
    "X_train, X_test, y_train, y_test = train_test_split(df_work['keyword_name'], df_work['encoded_category'], test_size=0.2, stratify=df_work['Cluster'], random_state=42)\n"
   ]
  },
  {
   "cell_type": "code",
   "execution_count": 99,
   "id": "f7f5e681",
   "metadata": {},
   "outputs": [],
   "source": [
    "vectorizer = TfidfVectorizer()\n",
    "X_train = vectorizer.fit_transform(X_train)\n",
    "X_test = vectorizer.transform(X_test)"
   ]
  },
  {
   "cell_type": "code",
   "execution_count": 100,
   "id": "a659ddff",
   "metadata": {},
   "outputs": [],
   "source": [
    "import scipy\n",
    "import tensorflow as tf\n",
    "X_train = scipy.sparse.csr_matrix.todense(X_train)\n",
    "X_test = scipy.sparse.csr_matrix.todense(X_test)"
   ]
  },
  {
   "cell_type": "code",
   "execution_count": 103,
   "id": "d09420ae",
   "metadata": {},
   "outputs": [
    {
     "name": "stdout",
     "output_type": "stream",
     "text": [
      "Epoch 1/100\n",
      "3/3 - 1s - loss: 1.9527 - accuracy: 0.0875 - val_loss: 1.9149 - val_accuracy: 0.3000 - 985ms/epoch - 328ms/step\n",
      "Epoch 2/100\n",
      "3/3 - 0s - loss: 1.9195 - accuracy: 0.1875 - val_loss: 1.8879 - val_accuracy: 0.5500 - 59ms/epoch - 20ms/step\n",
      "Epoch 3/100\n",
      "3/3 - 0s - loss: 1.8794 - accuracy: 0.3500 - val_loss: 1.8611 - val_accuracy: 0.7000 - 53ms/epoch - 18ms/step\n",
      "Epoch 4/100\n",
      "3/3 - 0s - loss: 1.8315 - accuracy: 0.5625 - val_loss: 1.8339 - val_accuracy: 0.7000 - 54ms/epoch - 18ms/step\n",
      "Epoch 5/100\n",
      "3/3 - 0s - loss: 1.7959 - accuracy: 0.6250 - val_loss: 1.8045 - val_accuracy: 0.6500 - 63ms/epoch - 21ms/step\n",
      "Epoch 6/100\n",
      "3/3 - 0s - loss: 1.7600 - accuracy: 0.6750 - val_loss: 1.7737 - val_accuracy: 0.6500 - 59ms/epoch - 20ms/step\n",
      "Epoch 7/100\n",
      "3/3 - 0s - loss: 1.7128 - accuracy: 0.6750 - val_loss: 1.7404 - val_accuracy: 0.6500 - 59ms/epoch - 20ms/step\n",
      "Epoch 8/100\n",
      "3/3 - 0s - loss: 1.6856 - accuracy: 0.6875 - val_loss: 1.7048 - val_accuracy: 0.6500 - 74ms/epoch - 25ms/step\n",
      "Epoch 9/100\n",
      "3/3 - 0s - loss: 1.6039 - accuracy: 0.6750 - val_loss: 1.6672 - val_accuracy: 0.6500 - 64ms/epoch - 21ms/step\n",
      "Epoch 10/100\n",
      "3/3 - 0s - loss: 1.5777 - accuracy: 0.6750 - val_loss: 1.6265 - val_accuracy: 0.6500 - 63ms/epoch - 21ms/step\n",
      "Epoch 11/100\n",
      "3/3 - 0s - loss: 1.5296 - accuracy: 0.6750 - val_loss: 1.5831 - val_accuracy: 0.6500 - 58ms/epoch - 19ms/step\n",
      "Epoch 12/100\n",
      "3/3 - 0s - loss: 1.4889 - accuracy: 0.6750 - val_loss: 1.5379 - val_accuracy: 0.6500 - 61ms/epoch - 20ms/step\n",
      "Epoch 13/100\n",
      "3/3 - 0s - loss: 1.4251 - accuracy: 0.6750 - val_loss: 1.4915 - val_accuracy: 0.6500 - 55ms/epoch - 18ms/step\n",
      "Epoch 14/100\n",
      "3/3 - 0s - loss: 1.3774 - accuracy: 0.6750 - val_loss: 1.4432 - val_accuracy: 0.6500 - 58ms/epoch - 19ms/step\n",
      "Epoch 15/100\n",
      "3/3 - 0s - loss: 1.3157 - accuracy: 0.6750 - val_loss: 1.3933 - val_accuracy: 0.6500 - 60ms/epoch - 20ms/step\n",
      "Epoch 16/100\n",
      "3/3 - 0s - loss: 1.2728 - accuracy: 0.6750 - val_loss: 1.3430 - val_accuracy: 0.6500 - 56ms/epoch - 19ms/step\n",
      "Epoch 17/100\n",
      "3/3 - 0s - loss: 1.1994 - accuracy: 0.6750 - val_loss: 1.2948 - val_accuracy: 0.6500 - 57ms/epoch - 19ms/step\n",
      "Epoch 18/100\n",
      "3/3 - 0s - loss: 1.1438 - accuracy: 0.6750 - val_loss: 1.2486 - val_accuracy: 0.6500 - 56ms/epoch - 19ms/step\n",
      "Epoch 19/100\n",
      "3/3 - 0s - loss: 1.1059 - accuracy: 0.6750 - val_loss: 1.2041 - val_accuracy: 0.6500 - 57ms/epoch - 19ms/step\n",
      "Epoch 20/100\n",
      "3/3 - 0s - loss: 1.0450 - accuracy: 0.6750 - val_loss: 1.1636 - val_accuracy: 0.6500 - 56ms/epoch - 19ms/step\n",
      "Epoch 21/100\n",
      "3/3 - 0s - loss: 1.0284 - accuracy: 0.6750 - val_loss: 1.1252 - val_accuracy: 0.6500 - 55ms/epoch - 18ms/step\n",
      "Epoch 22/100\n",
      "3/3 - 0s - loss: 0.9811 - accuracy: 0.6750 - val_loss: 1.0896 - val_accuracy: 0.6500 - 53ms/epoch - 18ms/step\n",
      "Epoch 23/100\n",
      "3/3 - 0s - loss: 0.9335 - accuracy: 0.6750 - val_loss: 1.0552 - val_accuracy: 0.6500 - 65ms/epoch - 22ms/step\n",
      "Epoch 24/100\n",
      "3/3 - 0s - loss: 0.9110 - accuracy: 0.6750 - val_loss: 1.0227 - val_accuracy: 0.6500 - 57ms/epoch - 19ms/step\n",
      "Epoch 25/100\n",
      "3/3 - 0s - loss: 0.8833 - accuracy: 0.6750 - val_loss: 0.9922 - val_accuracy: 0.6500 - 53ms/epoch - 18ms/step\n",
      "Epoch 26/100\n",
      "3/3 - 0s - loss: 0.8675 - accuracy: 0.6750 - val_loss: 0.9633 - val_accuracy: 0.6500 - 54ms/epoch - 18ms/step\n",
      "Epoch 27/100\n",
      "3/3 - 0s - loss: 0.8327 - accuracy: 0.6750 - val_loss: 0.9358 - val_accuracy: 0.6500 - 54ms/epoch - 18ms/step\n",
      "Epoch 28/100\n",
      "3/3 - 0s - loss: 0.7893 - accuracy: 0.6750 - val_loss: 0.9095 - val_accuracy: 0.6500 - 54ms/epoch - 18ms/step\n",
      "Epoch 29/100\n",
      "3/3 - 0s - loss: 0.7953 - accuracy: 0.6750 - val_loss: 0.8845 - val_accuracy: 0.6500 - 59ms/epoch - 20ms/step\n",
      "Epoch 30/100\n",
      "3/3 - 0s - loss: 0.7497 - accuracy: 0.6875 - val_loss: 0.8603 - val_accuracy: 0.6500 - 56ms/epoch - 19ms/step\n",
      "Epoch 31/100\n",
      "3/3 - 0s - loss: 0.7079 - accuracy: 0.6875 - val_loss: 0.8365 - val_accuracy: 0.6500 - 60ms/epoch - 20ms/step\n",
      "Epoch 32/100\n",
      "3/3 - 0s - loss: 0.6756 - accuracy: 0.7125 - val_loss: 0.8134 - val_accuracy: 0.7500 - 58ms/epoch - 19ms/step\n",
      "Epoch 33/100\n",
      "3/3 - 0s - loss: 0.6558 - accuracy: 0.7375 - val_loss: 0.7908 - val_accuracy: 0.7500 - 55ms/epoch - 18ms/step\n",
      "Epoch 34/100\n",
      "3/3 - 0s - loss: 0.6248 - accuracy: 0.7500 - val_loss: 0.7691 - val_accuracy: 0.7500 - 54ms/epoch - 18ms/step\n",
      "Epoch 35/100\n",
      "3/3 - 0s - loss: 0.5988 - accuracy: 0.7375 - val_loss: 0.7475 - val_accuracy: 0.7500 - 52ms/epoch - 17ms/step\n",
      "Epoch 36/100\n",
      "3/3 - 0s - loss: 0.5883 - accuracy: 0.7500 - val_loss: 0.7274 - val_accuracy: 0.7500 - 101ms/epoch - 34ms/step\n",
      "Epoch 37/100\n",
      "3/3 - 0s - loss: 0.5529 - accuracy: 0.7625 - val_loss: 0.7075 - val_accuracy: 0.7500 - 52ms/epoch - 17ms/step\n",
      "Epoch 38/100\n",
      "3/3 - 0s - loss: 0.5583 - accuracy: 0.7625 - val_loss: 0.6870 - val_accuracy: 0.7500 - 54ms/epoch - 18ms/step\n",
      "Epoch 39/100\n",
      "3/3 - 0s - loss: 0.5162 - accuracy: 0.8000 - val_loss: 0.6667 - val_accuracy: 0.7500 - 54ms/epoch - 18ms/step\n",
      "Epoch 40/100\n",
      "3/3 - 0s - loss: 0.5005 - accuracy: 0.8000 - val_loss: 0.6459 - val_accuracy: 0.7500 - 53ms/epoch - 18ms/step\n",
      "Epoch 41/100\n",
      "3/3 - 0s - loss: 0.4774 - accuracy: 0.8000 - val_loss: 0.6247 - val_accuracy: 0.8000 - 50ms/epoch - 17ms/step\n",
      "Epoch 42/100\n",
      "3/3 - 0s - loss: 0.4582 - accuracy: 0.8625 - val_loss: 0.6046 - val_accuracy: 0.8500 - 55ms/epoch - 18ms/step\n",
      "Epoch 43/100\n",
      "3/3 - 0s - loss: 0.4399 - accuracy: 0.8750 - val_loss: 0.5852 - val_accuracy: 0.8500 - 54ms/epoch - 18ms/step\n",
      "Epoch 44/100\n",
      "3/3 - 0s - loss: 0.4162 - accuracy: 0.8750 - val_loss: 0.5682 - val_accuracy: 0.8500 - 54ms/epoch - 18ms/step\n",
      "Epoch 45/100\n",
      "3/3 - 0s - loss: 0.3894 - accuracy: 0.8875 - val_loss: 0.5524 - val_accuracy: 0.9000 - 51ms/epoch - 17ms/step\n",
      "Epoch 46/100\n",
      "3/3 - 0s - loss: 0.3803 - accuracy: 0.8875 - val_loss: 0.5363 - val_accuracy: 0.9000 - 53ms/epoch - 18ms/step\n",
      "Epoch 47/100\n",
      "3/3 - 0s - loss: 0.3305 - accuracy: 0.8875 - val_loss: 0.5221 - val_accuracy: 0.9000 - 56ms/epoch - 19ms/step\n",
      "Epoch 48/100\n",
      "3/3 - 0s - loss: 0.3360 - accuracy: 0.9125 - val_loss: 0.5079 - val_accuracy: 0.9000 - 57ms/epoch - 19ms/step\n",
      "Epoch 49/100\n",
      "3/3 - 0s - loss: 0.3353 - accuracy: 0.9000 - val_loss: 0.4932 - val_accuracy: 0.9000 - 54ms/epoch - 18ms/step\n",
      "Epoch 50/100\n",
      "3/3 - 0s - loss: 0.3246 - accuracy: 0.9125 - val_loss: 0.4778 - val_accuracy: 0.9000 - 51ms/epoch - 17ms/step\n",
      "Epoch 51/100\n",
      "3/3 - 0s - loss: 0.3108 - accuracy: 0.9000 - val_loss: 0.4640 - val_accuracy: 0.9000 - 64ms/epoch - 21ms/step\n",
      "Epoch 52/100\n",
      "3/3 - 0s - loss: 0.2893 - accuracy: 0.9250 - val_loss: 0.4496 - val_accuracy: 0.9000 - 56ms/epoch - 19ms/step\n",
      "Epoch 53/100\n",
      "3/3 - 0s - loss: 0.2623 - accuracy: 0.9375 - val_loss: 0.4356 - val_accuracy: 0.9000 - 57ms/epoch - 19ms/step\n",
      "Epoch 54/100\n",
      "3/3 - 0s - loss: 0.2755 - accuracy: 0.9375 - val_loss: 0.4215 - val_accuracy: 0.9000 - 64ms/epoch - 21ms/step\n",
      "Epoch 55/100\n",
      "3/3 - 0s - loss: 0.2480 - accuracy: 0.9500 - val_loss: 0.4087 - val_accuracy: 0.9000 - 52ms/epoch - 17ms/step\n",
      "Epoch 56/100\n",
      "3/3 - 0s - loss: 0.2492 - accuracy: 0.9375 - val_loss: 0.3944 - val_accuracy: 0.9000 - 53ms/epoch - 18ms/step\n",
      "Epoch 57/100\n",
      "3/3 - 0s - loss: 0.2198 - accuracy: 0.9375 - val_loss: 0.3810 - val_accuracy: 0.9000 - 46ms/epoch - 15ms/step\n",
      "Epoch 58/100\n",
      "3/3 - 0s - loss: 0.2306 - accuracy: 0.9625 - val_loss: 0.3684 - val_accuracy: 0.9000 - 56ms/epoch - 19ms/step\n",
      "Epoch 59/100\n",
      "3/3 - 0s - loss: 0.1961 - accuracy: 0.9750 - val_loss: 0.3574 - val_accuracy: 0.9000 - 57ms/epoch - 19ms/step\n",
      "Epoch 60/100\n",
      "3/3 - 0s - loss: 0.1931 - accuracy: 1.0000 - val_loss: 0.3468 - val_accuracy: 0.9000 - 60ms/epoch - 20ms/step\n",
      "Epoch 61/100\n",
      "3/3 - 0s - loss: 0.1837 - accuracy: 0.9875 - val_loss: 0.3369 - val_accuracy: 0.9000 - 53ms/epoch - 18ms/step\n",
      "Epoch 62/100\n",
      "3/3 - 0s - loss: 0.1656 - accuracy: 0.9875 - val_loss: 0.3288 - val_accuracy: 0.9000 - 56ms/epoch - 19ms/step\n",
      "Epoch 63/100\n",
      "3/3 - 0s - loss: 0.1685 - accuracy: 0.9875 - val_loss: 0.3215 - val_accuracy: 0.9000 - 57ms/epoch - 19ms/step\n",
      "Epoch 64/100\n",
      "3/3 - 0s - loss: 0.1751 - accuracy: 0.9875 - val_loss: 0.3152 - val_accuracy: 0.9000 - 54ms/epoch - 18ms/step\n",
      "Epoch 65/100\n",
      "3/3 - 0s - loss: 0.1400 - accuracy: 1.0000 - val_loss: 0.3080 - val_accuracy: 0.9000 - 55ms/epoch - 18ms/step\n",
      "Epoch 66/100\n",
      "3/3 - 0s - loss: 0.1357 - accuracy: 1.0000 - val_loss: 0.3006 - val_accuracy: 0.9000 - 54ms/epoch - 18ms/step\n",
      "Epoch 67/100\n",
      "3/3 - 0s - loss: 0.1374 - accuracy: 0.9875 - val_loss: 0.2908 - val_accuracy: 0.9000 - 54ms/epoch - 18ms/step\n"
     ]
    },
    {
     "name": "stdout",
     "output_type": "stream",
     "text": [
      "Epoch 68/100\n",
      "3/3 - 0s - loss: 0.1109 - accuracy: 1.0000 - val_loss: 0.2811 - val_accuracy: 0.9000 - 55ms/epoch - 18ms/step\n",
      "Epoch 69/100\n",
      "3/3 - 0s - loss: 0.1197 - accuracy: 1.0000 - val_loss: 0.2710 - val_accuracy: 0.9500 - 53ms/epoch - 18ms/step\n",
      "Epoch 70/100\n",
      "3/3 - 0s - loss: 0.1072 - accuracy: 1.0000 - val_loss: 0.2610 - val_accuracy: 0.9500 - 53ms/epoch - 18ms/step\n",
      "Epoch 71/100\n",
      "3/3 - 0s - loss: 0.1241 - accuracy: 0.9875 - val_loss: 0.2512 - val_accuracy: 0.9500 - 57ms/epoch - 19ms/step\n",
      "Epoch 72/100\n",
      "3/3 - 0s - loss: 0.1356 - accuracy: 0.9750 - val_loss: 0.2436 - val_accuracy: 0.9500 - 59ms/epoch - 20ms/step\n",
      "Epoch 73/100\n",
      "3/3 - 0s - loss: 0.1099 - accuracy: 0.9875 - val_loss: 0.2375 - val_accuracy: 0.9500 - 56ms/epoch - 19ms/step\n",
      "Epoch 74/100\n",
      "3/3 - 0s - loss: 0.0690 - accuracy: 1.0000 - val_loss: 0.2315 - val_accuracy: 0.9500 - 48ms/epoch - 16ms/step\n",
      "Epoch 75/100\n",
      "3/3 - 0s - loss: 0.0811 - accuracy: 1.0000 - val_loss: 0.2254 - val_accuracy: 0.9500 - 56ms/epoch - 19ms/step\n",
      "Epoch 76/100\n",
      "3/3 - 0s - loss: 0.0849 - accuracy: 1.0000 - val_loss: 0.2181 - val_accuracy: 0.9500 - 59ms/epoch - 20ms/step\n",
      "Epoch 77/100\n",
      "3/3 - 0s - loss: 0.0664 - accuracy: 1.0000 - val_loss: 0.2128 - val_accuracy: 0.9500 - 54ms/epoch - 18ms/step\n",
      "Epoch 78/100\n",
      "3/3 - 0s - loss: 0.1094 - accuracy: 1.0000 - val_loss: 0.2084 - val_accuracy: 0.9500 - 58ms/epoch - 19ms/step\n",
      "Epoch 79/100\n",
      "3/3 - 0s - loss: 0.0640 - accuracy: 1.0000 - val_loss: 0.2051 - val_accuracy: 0.9500 - 59ms/epoch - 20ms/step\n",
      "Epoch 80/100\n",
      "3/3 - 0s - loss: 0.0632 - accuracy: 1.0000 - val_loss: 0.2014 - val_accuracy: 0.9500 - 57ms/epoch - 19ms/step\n",
      "Epoch 81/100\n",
      "3/3 - 0s - loss: 0.0620 - accuracy: 1.0000 - val_loss: 0.1986 - val_accuracy: 0.9500 - 50ms/epoch - 17ms/step\n",
      "Epoch 82/100\n",
      "3/3 - 0s - loss: 0.0533 - accuracy: 1.0000 - val_loss: 0.1959 - val_accuracy: 0.9500 - 59ms/epoch - 20ms/step\n",
      "Epoch 83/100\n",
      "3/3 - 0s - loss: 0.0690 - accuracy: 0.9875 - val_loss: 0.1923 - val_accuracy: 0.9500 - 58ms/epoch - 19ms/step\n",
      "Epoch 84/100\n",
      "3/3 - 0s - loss: 0.0567 - accuracy: 1.0000 - val_loss: 0.1881 - val_accuracy: 0.9500 - 53ms/epoch - 18ms/step\n",
      "Epoch 85/100\n",
      "3/3 - 0s - loss: 0.0604 - accuracy: 1.0000 - val_loss: 0.1839 - val_accuracy: 0.9500 - 52ms/epoch - 17ms/step\n",
      "Epoch 86/100\n",
      "3/3 - 0s - loss: 0.0565 - accuracy: 1.0000 - val_loss: 0.1801 - val_accuracy: 0.9500 - 52ms/epoch - 17ms/step\n",
      "Epoch 87/100\n",
      "3/3 - 0s - loss: 0.0661 - accuracy: 1.0000 - val_loss: 0.1770 - val_accuracy: 0.9500 - 58ms/epoch - 19ms/step\n",
      "Epoch 88/100\n",
      "3/3 - 0s - loss: 0.0501 - accuracy: 1.0000 - val_loss: 0.1736 - val_accuracy: 0.9500 - 61ms/epoch - 20ms/step\n",
      "Epoch 89/100\n",
      "3/3 - 0s - loss: 0.0495 - accuracy: 1.0000 - val_loss: 0.1711 - val_accuracy: 0.9500 - 51ms/epoch - 17ms/step\n",
      "Epoch 90/100\n",
      "3/3 - 0s - loss: 0.0544 - accuracy: 0.9875 - val_loss: 0.1690 - val_accuracy: 0.9500 - 58ms/epoch - 19ms/step\n",
      "Epoch 91/100\n",
      "3/3 - 0s - loss: 0.0428 - accuracy: 1.0000 - val_loss: 0.1677 - val_accuracy: 0.9500 - 58ms/epoch - 19ms/step\n",
      "Epoch 92/100\n",
      "3/3 - 0s - loss: 0.0392 - accuracy: 1.0000 - val_loss: 0.1660 - val_accuracy: 0.9500 - 54ms/epoch - 18ms/step\n",
      "Epoch 93/100\n",
      "3/3 - 0s - loss: 0.0403 - accuracy: 1.0000 - val_loss: 0.1636 - val_accuracy: 0.9500 - 54ms/epoch - 18ms/step\n",
      "Epoch 94/100\n",
      "3/3 - 0s - loss: 0.0380 - accuracy: 1.0000 - val_loss: 0.1606 - val_accuracy: 0.9500 - 50ms/epoch - 17ms/step\n",
      "Epoch 95/100\n",
      "3/3 - 0s - loss: 0.0374 - accuracy: 1.0000 - val_loss: 0.1588 - val_accuracy: 0.9500 - 54ms/epoch - 18ms/step\n",
      "Epoch 96/100\n",
      "3/3 - 0s - loss: 0.0357 - accuracy: 1.0000 - val_loss: 0.1569 - val_accuracy: 0.9500 - 54ms/epoch - 18ms/step\n",
      "Epoch 97/100\n",
      "3/3 - 0s - loss: 0.0559 - accuracy: 0.9875 - val_loss: 0.1559 - val_accuracy: 0.9500 - 55ms/epoch - 18ms/step\n",
      "Epoch 98/100\n",
      "3/3 - 0s - loss: 0.0239 - accuracy: 1.0000 - val_loss: 0.1553 - val_accuracy: 0.9500 - 52ms/epoch - 17ms/step\n",
      "Epoch 99/100\n",
      "3/3 - 0s - loss: 0.0470 - accuracy: 0.9875 - val_loss: 0.1549 - val_accuracy: 0.9500 - 54ms/epoch - 18ms/step\n",
      "Epoch 100/100\n",
      "3/3 - 0s - loss: 0.0398 - accuracy: 1.0000 - val_loss: 0.1553 - val_accuracy: 0.9500 - 47ms/epoch - 16ms/step\n"
     ]
    }
   ],
   "source": [
    "model = tf.keras.Sequential([\n",
    "    tf.keras.layers.Dense(128, activation='relu', input_shape=(X_train.shape[1],)),\n",
    "    tf.keras.layers.Dropout(0.2),\n",
    "    tf.keras.layers.Dense(32, activation='relu'),\n",
    "    tf.keras.layers.Dropout(0.2),\n",
    "    tf.keras.layers.Dense(df_work['Cluster'].nunique(), activation='softmax')\n",
    "])\n",
    "model.compile(loss = 'sparse_categorical_crossentropy', optimizer='adam', metrics=['accuracy'])\n",
    "history = model.fit(X_train, y_train, epochs=100, validation_data=(X_test, y_test), verbose=2)"
   ]
  },
  {
   "cell_type": "code",
   "execution_count": 104,
   "id": "a7762c9b",
   "metadata": {},
   "outputs": [
    {
     "name": "stdout",
     "output_type": "stream",
     "text": [
      "Model: \"sequential_2\"\n",
      "_________________________________________________________________\n",
      " Layer (type)                Output Shape              Param #   \n",
      "=================================================================\n",
      " dense_6 (Dense)             (None, 128)               13824     \n",
      "                                                                 \n",
      " dropout_4 (Dropout)         (None, 128)               0         \n",
      "                                                                 \n",
      " dense_7 (Dense)             (None, 32)                4128      \n",
      "                                                                 \n",
      " dropout_5 (Dropout)         (None, 32)                0         \n",
      "                                                                 \n",
      " dense_8 (Dense)             (None, 7)                 231       \n",
      "                                                                 \n",
      "=================================================================\n",
      "Total params: 18,183\n",
      "Trainable params: 18,183\n",
      "Non-trainable params: 0\n",
      "_________________________________________________________________\n"
     ]
    }
   ],
   "source": [
    "model.summary()"
   ]
  },
  {
   "cell_type": "markdown",
   "id": "9da269a2",
   "metadata": {},
   "source": [
    "# Visualization loss and accuracy"
   ]
  },
  {
   "cell_type": "code",
   "execution_count": 106,
   "id": "8fa70110",
   "metadata": {},
   "outputs": [
    {
     "data": {
      "image/png": "[encoded data removed]",
      "text/plain": [
       "<Figure size 1200x500 with 2 Axes>"
      ]
     },
     "metadata": {},
     "output_type": "display_data"
    }
   ],
   "source": [
    "plt.figure(figsize=(12,5))\n",
    "plt.subplot(121)\n",
    "plt.plot(history.history['loss'])\n",
    "plt.plot(history.history['val_loss']);\n",
    "plt.xlabel('Epochs')\n",
    "plt.ylabel('Loss')\n",
    "plt.legend(['train loss', 'test loss'])\n",
    "ax = plt.subplot(122)\n",
    "plt.plot(history.history['accuracy'])\n",
    "plt.plot(history.history['val_accuracy']);\n",
    "plt.xlabel('Epochs')\n",
    "plt.ylabel('Accuracy')\n",
    "plt.legend(['train accuracy', 'test accuracy']);\n"
   ]
  },
  {
   "cell_type": "code",
   "execution_count": null,
   "id": "d550add0",
   "metadata": {},
   "outputs": [],
   "source": []
  }
 ],
 "metadata": {
  "kernelspec": {
   "display_name": "NLP",
   "language": "python",
   "name": "nlp"
  },
  "language_info": {
   "codemirror_mode": {
    "name": "ipython",
    "version": 3
   },
   "file_extension": ".py",
   "mimetype": "text/x-python",
   "name": "python",
   "nbconvert_exporter": "python",
   "pygments_lexer": "ipython3",
   "version": "3.9.13"
  }
 },
 "nbformat": 4,
 "nbformat_minor": 5
}
